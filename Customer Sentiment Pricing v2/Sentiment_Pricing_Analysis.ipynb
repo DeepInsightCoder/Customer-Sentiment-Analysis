{
 "cells": [
  {
   "cell_type": "markdown",
   "id": "f9a4a04e-802f-48b1-9c24-bde4ac5ce538",
   "metadata": {},
   "source": [
    "# Data Loading and Exploration"
   ]
  },
  {
   "cell_type": "code",
   "execution_count": 1,
   "id": "a08dc957-1302-429b-bf5a-68428f32d87c",
   "metadata": {},
   "outputs": [],
   "source": [
    "import pandas as pd\n",
    "\n",
    "# Load datasets\n",
    "sentiment140_data = pd.read_csv('new_train_data_s140.csv') \n",
    "trustpilot_reviews_data = pd.read_csv('trust_pilot_reviews_data_2022_06.csv') \n",
    "twitter_data = pd.read_csv('Twitter Scraping Tweets Dataset.csv')\n",
    "reviews_data = pd.read_csv('Reviews.csv') \n",
    "ratings_beauty_data = pd.read_csv('ratings_beauty.csv')"
   ]
  },
  {
   "cell_type": "code",
   "execution_count": 2,
   "id": "d5f3b15d-7731-4ad1-bc2c-a8efc807bfee",
   "metadata": {},
   "outputs": [
    {
     "name": "stdout",
     "output_type": "stream",
     "text": [
      "Sentiment140 Data:\n",
      "   Polarity          Id                          Date     Query      User  \\\n",
      "0         0  1467810917  Mon Apr 06 22:19:53 PDT 2009  NO_QUERY  mattycus   \n",
      "1         0  1467811184  Mon Apr 06 22:19:57 PDT 2009  NO_QUERY   ElleCTF   \n",
      "2         0  1467811193  Mon Apr 06 22:19:57 PDT 2009  NO_QUERY    Karoli   \n",
      "3         0  1467811372  Mon Apr 06 22:20:00 PDT 2009  NO_QUERY  joy_wolf   \n",
      "4         0  1467811592  Mon Apr 06 22:20:03 PDT 2009  NO_QUERY   mybirch   \n",
      "\n",
      "                                                Text  \n",
      "0  @Kenichan I dived many times for the ball. Man...  \n",
      "1    my whole body feels itchy and like its on fire   \n",
      "2  @nationwideclass no, it's not behaving at all....  \n",
      "3                      @Kwesidei not the whole crew   \n",
      "4                                        Need a hug   \n",
      "\n",
      "Trustpilot Reviews Data:\n",
      "        name                 company_url  \\\n",
      "0  Poundshop  https://www.poundshop.com/   \n",
      "1  Poundshop  https://www.poundshop.com/   \n",
      "2  Poundshop  https://www.poundshop.com/   \n",
      "3  Poundshop  https://www.poundshop.com/   \n",
      "4  Poundshop  https://www.poundshop.com/   \n",
      "\n",
      "                                      trustpilot_url  \\\n",
      "0  https://uk.trustpilot.com/review/www.poundshop...   \n",
      "1  https://uk.trustpilot.com/review/www.poundshop...   \n",
      "2  https://uk.trustpilot.com/review/www.poundshop...   \n",
      "3  https://uk.trustpilot.com/review/www.poundshop...   \n",
      "4  https://uk.trustpilot.com/review/www.poundshop...   \n",
      "\n",
      "                                         description       author_name  \\\n",
      "0  The home for top brands, amazing value! We hav...             Colin   \n",
      "1  The home for top brands, amazing value! We hav...  Mr Paul Harrison   \n",
      "2  The home for top brands, amazing value! We hav...          Mrs Dean   \n",
      "3  The home for top brands, amazing value! We hav...        Mrs Barlow   \n",
      "4  The home for top brands, amazing value! We hav...   Graham Bradbury   \n",
      "\n",
      "                              review_title  \\\n",
      "0              Lowest price in the country   \n",
      "1  got it on time they took notice that I…   \n",
      "2                        Delivered on time   \n",
      "3            Quick and efficient service..   \n",
      "4            Excellent service packed well   \n",
      "\n",
      "                                         review_text  rating  \\\n",
      "0  Lowest price in the country for what we wanted...       5   \n",
      "1  got it on time they took notice that I let the...       5   \n",
      "2  Delivered on time. Products as described, pack...       5   \n",
      "3               Quick and efficient service..Pleased       5   \n",
      "4     Excellent service packed well. Really pleased.       5   \n",
      "\n",
      "                reviewed_at                               uniq_id scraped_at  \n",
      "0  2022-06-18T12:08:09.000Z  7e0edfe9-7251-5561-acc8-34f7d3ab79aa   06/18/22  \n",
      "1  2022-06-18T11:48:20.000Z  7e0edfe9-7251-5561-acc8-34f7d3ab79aa   06/18/22  \n",
      "2  2022-06-18T11:32:52.000Z  7e0edfe9-7251-5561-acc8-34f7d3ab79aa   06/18/22  \n",
      "3  2022-06-18T11:29:27.000Z  7e0edfe9-7251-5561-acc8-34f7d3ab79aa   06/18/22  \n",
      "4  2022-06-18T11:22:37.000Z  7e0edfe9-7251-5561-acc8-34f7d3ab79aa   06/18/22  \n",
      "\n",
      "Twitter Data:\n",
      "   Unnamed: 0                                 user_name  \\\n",
      "0           0                                Aravindh S   \n",
      "1           1                            Gbest Bulk SMS   \n",
      "2           2                       Kalyanashis Mahanty   \n",
      "3           3  Network Palava - Free, Cheap Data Daily.   \n",
      "4           4                                 JayRoy 🇮🇳   \n",
      "\n",
      "                    user_location  \\\n",
      "0               Tamil Nadu, India   \n",
      "1                   Abuja Nigeria   \n",
      "2  Barabhum ,  West Bengal, India   \n",
      "3                  Lagos, Nigeria   \n",
      "4                             NaN   \n",
      "\n",
      "                                    user_description  user_verified  \\\n",
      "0                         Nemophilist 🌎 90's KID 😉 😜          False   \n",
      "1  Providers of Bulk SMS | Data Bundle | Airtime ...          False   \n",
      "2  School teacher by profession and I am everythi...          False   \n",
      "3  Get Cheap, Free Browsing Solutions at https://...          False   \n",
      "4         Proud Indian \\n\\n(RT's r not endorsements)          False   \n",
      "\n",
      "               date                                               text  \\\n",
      "0  14-03-2022 12:38  And I am hearing new stories that within a sma...   \n",
      "1  14-03-2022 12:21  Do U have excess Airtime in ur line and will l...   \n",
      "2  14-03-2022 12:05  @airtelindia @Airtel_Presence bye bye for now....   \n",
      "3  14-03-2022 11:59  Working NapsternetV Configuration Files Downlo...   \n",
      "4  14-03-2022 11:55  @airtelnews @airtelindia @Airtel_Presence @air...   \n",
      "\n",
      "  hashtags               source    label  \n",
      "0      NaN   Twitter for iPhone        0  \n",
      "1      NaN  Twitter for Android  neutral  \n",
      "2      NaN  Twitter for Android        0  \n",
      "3  ['mtn']    Revive Social App  neutral  \n",
      "4      NaN      Twitter Web App        0  \n",
      "\n",
      "Reviews Data:\n",
      "   Id   ProductId          UserId                      ProfileName  \\\n",
      "0   1  B001E4KFG0  A3SGXH7AUHU8GW                       delmartian   \n",
      "1   2  B00813GRG4  A1D87F6ZCVE5NK                           dll pa   \n",
      "2   3  B000LQOCH0   ABXLMWJIXXAIN  Natalia Corres \"Natalia Corres\"   \n",
      "3   4  B000UA0QIQ  A395BORC6FGVXV                             Karl   \n",
      "4   5  B006K2ZZ7K  A1UQRSCLF8GW1T    Michael D. Bigham \"M. Wassir\"   \n",
      "\n",
      "   HelpfulnessNumerator  HelpfulnessDenominator  Score        Time  \\\n",
      "0                     1                       1      5  1303862400   \n",
      "1                     0                       0      1  1346976000   \n",
      "2                     1                       1      4  1219017600   \n",
      "3                     3                       3      2  1307923200   \n",
      "4                     0                       0      5  1350777600   \n",
      "\n",
      "                 Summary                                               Text  \n",
      "0  Good Quality Dog Food  I have bought several of the Vitality canned d...  \n",
      "1      Not as Advertised  Product arrived labeled as Jumbo Salted Peanut...  \n",
      "2  \"Delight\" says it all  This is a confection that has been around a fe...  \n",
      "3         Cough Medicine  If you are looking for the secret ingredient i...  \n",
      "4            Great taffy  Great taffy at a great price.  There was a wid...  \n",
      "\n",
      "Ratings Beauty Data:\n",
      "           UserId   ProductId  Rating   Timestamp\n",
      "0  A39HTATAQ9V7YF  0205616461     5.0  1369699200\n",
      "1  A3JM6GV9MNOF9X  0558925278     3.0  1355443200\n",
      "2  A1Z513UWSAAO0F  0558925278     5.0  1404691200\n",
      "3  A1WMRR494NWEWV  0733001998     4.0  1382572800\n",
      "4  A3IAAVS479H7M7  0737104473     1.0  1274227200\n"
     ]
    }
   ],
   "source": [
    "# Display first few rows of each dataset to check\n",
    "print(\"Sentiment140 Data:\")\n",
    "print(sentiment140_data.head())\n",
    "print(\"\\nTrustpilot Reviews Data:\")\n",
    "print(trustpilot_reviews_data.head())\n",
    "print(\"\\nTwitter Data:\")\n",
    "print(twitter_data.head())\n",
    "print(\"\\nReviews Data:\")\n",
    "print(reviews_data.head())\n",
    "print(\"\\nRatings Beauty Data:\")\n",
    "print(ratings_beauty_data.head())"
   ]
  },
  {
   "cell_type": "markdown",
   "id": "9f6e21bb-7376-480d-8f2e-e0e295af7b21",
   "metadata": {},
   "source": [
    "# Data Preprocessing\n",
    "**Cleaning Text Data**"
   ]
  },
  {
   "cell_type": "code",
   "execution_count": 3,
   "id": "0fa8336b-9aeb-4887-8ee9-bc679f62cfb5",
   "metadata": {},
   "outputs": [],
   "source": [
    "def preprocess_sentiment140(data):\n",
    "    data = data[['Polarity', 'Text']]\n",
    "    return data\n",
    "\n",
    "sentiment140_preprocessed = preprocess_sentiment140(sentiment140_data)"
   ]
  },
  {
   "cell_type": "code",
   "execution_count": 4,
   "id": "5097d138-5369-4970-83d5-cfc93b7e7875",
   "metadata": {},
   "outputs": [
    {
     "name": "stderr",
     "output_type": "stream",
     "text": [
      "C:\\Users\\Global\\AppData\\Local\\Temp\\ipykernel_14072\\32807683.py:3: SettingWithCopyWarning: \n",
      "A value is trying to be set on a copy of a slice from a DataFrame\n",
      "\n",
      "See the caveats in the documentation: https://pandas.pydata.org/pandas-docs/stable/user_guide/indexing.html#returning-a-view-versus-a-copy\n",
      "  data.rename(columns={'review_text': 'Text', 'rating': 'Polarity'}, inplace=True)\n",
      "C:\\Users\\Global\\AppData\\Local\\Temp\\ipykernel_14072\\32807683.py:4: SettingWithCopyWarning: \n",
      "A value is trying to be set on a copy of a slice from a DataFrame.\n",
      "Try using .loc[row_indexer,col_indexer] = value instead\n",
      "\n",
      "See the caveats in the documentation: https://pandas.pydata.org/pandas-docs/stable/user_guide/indexing.html#returning-a-view-versus-a-copy\n",
      "  data['Polarity'] = data['Polarity'].apply(lambda x: 1 if x > 3 else 0)\n"
     ]
    }
   ],
   "source": [
    "def preprocess_trustpilot(data):\n",
    "    data = data[['review_text', 'rating']]\n",
    "    data.rename(columns={'review_text': 'Text', 'rating': 'Polarity'}, inplace=True)\n",
    "    data['Polarity'] = data['Polarity'].apply(lambda x: 1 if x > 3 else 0)\n",
    "    return data\n",
    "\n",
    "trustpilot_preprocessed = preprocess_trustpilot(trustpilot_reviews_data)"
   ]
  },
  {
   "cell_type": "code",
   "execution_count": 5,
   "id": "1135ee10-c1c4-4ce9-882d-0928b943387a",
   "metadata": {},
   "outputs": [
    {
     "name": "stderr",
     "output_type": "stream",
     "text": [
      "C:\\Users\\Global\\AppData\\Local\\Temp\\ipykernel_14072\\1963007449.py:3: SettingWithCopyWarning: \n",
      "A value is trying to be set on a copy of a slice from a DataFrame\n",
      "\n",
      "See the caveats in the documentation: https://pandas.pydata.org/pandas-docs/stable/user_guide/indexing.html#returning-a-view-versus-a-copy\n",
      "  data.rename(columns={'text': 'Text', 'label': 'Polarity'}, inplace=True)\n"
     ]
    }
   ],
   "source": [
    "def preprocess_twitter(data):\n",
    "    data = data[['text', 'label']]\n",
    "    data.rename(columns={'text': 'Text', 'label': 'Polarity'}, inplace=True)\n",
    "    return data\n",
    "\n",
    "twitter_preprocessed = preprocess_twitter(twitter_data)"
   ]
  },
  {
   "cell_type": "code",
   "execution_count": 6,
   "id": "ba8b8c7a-4500-4bd7-8791-185c442172d5",
   "metadata": {},
   "outputs": [
    {
     "name": "stderr",
     "output_type": "stream",
     "text": [
      "C:\\Users\\Global\\AppData\\Local\\Temp\\ipykernel_14072\\1943644809.py:3: SettingWithCopyWarning: \n",
      "A value is trying to be set on a copy of a slice from a DataFrame.\n",
      "Try using .loc[row_indexer,col_indexer] = value instead\n",
      "\n",
      "See the caveats in the documentation: https://pandas.pydata.org/pandas-docs/stable/user_guide/indexing.html#returning-a-view-versus-a-copy\n",
      "  data['Polarity'] = data['Score'].apply(lambda x: 1 if x > 3 else 0)\n"
     ]
    }
   ],
   "source": [
    "def preprocess_reviews(data):\n",
    "    data = data[['Text', 'Score']]\n",
    "    data['Polarity'] = data['Score'].apply(lambda x: 1 if x > 3 else 0)\n",
    "    return data[['Polarity', 'Text']] \n",
    "reviews_preprocessed = preprocess_reviews(reviews_data)"
   ]
  },
  {
   "cell_type": "code",
   "execution_count": 7,
   "id": "ee6f51f0-9759-40da-ad90-729db471c5e5",
   "metadata": {},
   "outputs": [],
   "source": [
    "def preprocess_ratings_beauty(data):\n",
    "    data['Polarity'] = data['Rating'].apply(lambda x: 1 if x > 3 else 0)\n",
    "    return data[['Polarity']]\n",
    "\n",
    "ratings_beauty_preprocessed = preprocess_ratings_beauty(ratings_beauty_data)"
   ]
  },
  {
   "cell_type": "markdown",
   "id": "848017a9-3279-4249-9fff-016ffe89f6ef",
   "metadata": {},
   "source": [
    "**Save the Preprocessed Datasets**"
   ]
  },
  {
   "cell_type": "code",
   "execution_count": 8,
   "id": "3a6e7fe4-131f-4eb6-b7af-2bc46783e26d",
   "metadata": {},
   "outputs": [],
   "source": [
    "sentiment140_preprocessed.to_csv('sentiment140_preprocessed.csv', index=False)\n",
    "trustpilot_preprocessed.to_csv('trustpilot_preprocessed.csv', index=False)\n",
    "twitter_preprocessed.to_csv('twitter_preprocessed.csv', index=False)\n",
    "reviews_preprocessed.to_csv('reviews_preprocessed.csv', index=False)\n",
    "ratings_beauty_preprocessed.to_csv('ratings_beauty_preprocessed.csv', index=False)"
   ]
  },
  {
   "cell_type": "markdown",
   "id": "6d67a25d-b3ef-4f92-802c-d3da6f00fe13",
   "metadata": {},
   "source": [
    "#  Data Combination and Shuffling"
   ]
  },
  {
   "cell_type": "code",
   "execution_count": 9,
   "id": "07de002c-3fa6-4fdc-8e84-3826e61baa3f",
   "metadata": {},
   "outputs": [
    {
     "name": "stdout",
     "output_type": "stream",
     "text": [
      "Index(['Polarity', 'Text'], dtype='object')\n"
     ]
    }
   ],
   "source": [
    "# Combine datasets (only those with text)\n",
    "combined_data = pd.concat([\n",
    "    sentiment140_preprocessed, \n",
    "    trustpilot_preprocessed, \n",
    "    twitter_preprocessed, \n",
    "    reviews_preprocessed\n",
    "], ignore_index=True)\n",
    "\n",
    "# Shuffle combined data\n",
    "combined_data = combined_data.sample(frac=1).reset_index(drop=True)\n",
    "\n",
    "# Check the columns of the combined dataset\n",
    "print(combined_data.columns)"
   ]
  },
  {
   "cell_type": "code",
   "execution_count": 10,
   "id": "eab8f248-ed04-4786-a0bc-8dbb2b591624",
   "metadata": {},
   "outputs": [
    {
     "name": "stdout",
     "output_type": "stream",
     "text": [
      "Missing values before handling:\n",
      "Polarity    0\n",
      "Id          0\n",
      "Date        0\n",
      "Query       0\n",
      "User        0\n",
      "Text        0\n",
      "dtype: int64\n"
     ]
    }
   ],
   "source": [
    "# Check for and handle missing values\n",
    "print(\"Missing values before handling:\")\n",
    "print(sentiment140_data.isnull().sum())\n",
    "\n",
    "# Drop rows with NaN values\n",
    "sentiment140_data.dropna(inplace=True)\n"
   ]
  },
  {
   "cell_type": "markdown",
   "id": "42b83575-6275-4b04-9b96-9cf6f2a21016",
   "metadata": {},
   "source": [
    "# Feature Extraction"
   ]
  },
  {
   "cell_type": "code",
   "execution_count": null,
   "id": "2597ad9e-177c-4f53-9fe6-a736290bba4d",
   "metadata": {},
   "outputs": [],
   "source": [
    "from sklearn.feature_extraction.text import TfidfVectorizer\n",
    "\n",
    "# Vectorize the text data\n",
    "vectorizer = TfidfVectorizer(max_features=5000)\n",
    "X = vectorizer.fit_transform(combined_data['Text'])\n",
    "\n",
    "# Labels for sentiment\n",
    "y = combined_data['Polarity']"
   ]
  },
  {
   "cell_type": "markdown",
   "id": "cb7e273e-a4e3-46ce-9b54-bc831e7b74a4",
   "metadata": {},
   "source": [
    "# Exploratory Data Analysis (EDA)\n",
    "**Sentiment Distribution**"
   ]
  },
  {
   "cell_type": "code",
   "execution_count": null,
   "id": "d274f7c1-50e4-4d20-8c54-dff2fbc7a5a1",
   "metadata": {},
   "outputs": [],
   "source": [
    "import matplotlib.pyplot as plt\n",
    "import seaborn as sns\n",
    "\n",
    "# Plot sentiment distribution for Kaggle Sentiment140 dataset\n",
    "sns.countplot(x='Polarity', data=sentiment140_data)\n",
    "plt.title('Sentiment Distribution (Sentiment140_data)')\n",
    "plt.show()\n",
    "\n",
    "# Rating distribution for Trustpilot dataset\n",
    "sns.countplot(x='rating', data=trustpilot_reviews_data)\n",
    "plt.title('Rating Distribution (Trustpilot Data)')\n",
    "plt.show()"
   ]
  },
  {
   "cell_type": "markdown",
   "id": "cdbd57d9-268e-4e8c-b687-2dfb55481368",
   "metadata": {},
   "source": [
    "**Correlations between Review Sentiment and Pricing Feedback**"
   ]
  },
  {
   "cell_type": "code",
   "execution_count": null,
   "id": "3a6eb594-8088-4964-89f3-6a80ea26e206",
   "metadata": {},
   "outputs": [],
   "source": [
    "# Convert Trustpilot ratings to sentiment polarity (1 for positive, 0 for negative)\n",
    "trustpilot_reviews_data['Polarity'] = trustpilot_reviews_data['rating'].apply(lambda x: 1 if x > 3 else 0)\n",
    "\n",
    "# Calculate correlation between Trustpilot ratings and sentiment polarity\n",
    "correlation = trustpilot_reviews_data['rating'].corr(trustpilot_reviews_data['Polarity'])\n",
    "print(f'Correlation between Trustpilot ratings and Polarity: {correlation}')"
   ]
  },
  {
   "cell_type": "markdown",
   "id": "dcc7f2c2-ad34-4dbf-9b59-d3ca776539c8",
   "metadata": {},
   "source": [
    "# Train-Test Split and Model Training"
   ]
  },
  {
   "cell_type": "code",
   "execution_count": null,
   "id": "696a9ee4-fbf3-4b80-8c18-9a866765f4f8",
   "metadata": {},
   "outputs": [],
   "source": [
    "from sklearn.model_selection import train_test_split\n",
    "from sklearn.linear_model import LogisticRegression\n",
    "from sklearn.metrics import accuracy_score\n",
    "\n",
    "# Split data into train and test sets\n",
    "X_train, X_test, y_train, y_test = train_test_split(X, y, test_size=0.2, random_state=42)\n",
    "\n",
    "# Train the Logistic Regression model\n",
    "lr = LogisticRegression()\n",
    "lr.fit(X_train, y_train)\n",
    "\n",
    "# Evaluate the model\n",
    "lr_accuracy = lr.score(X_test, y_test)\n",
    "print(f\"Model Accuracy: {lr_accuracy:.2f}\")"
   ]
  },
  {
   "cell_type": "markdown",
   "id": "2e35a571-3bd9-42ff-9401-473fdaa712d8",
   "metadata": {},
   "source": [
    "# Save the Model and Vectorizer"
   ]
  },
  {
   "cell_type": "code",
   "execution_count": null,
   "id": "87d656c8-be0d-45a6-bca8-926cd9817dc9",
   "metadata": {},
   "outputs": [],
   "source": [
    "import joblib\n",
    "\n",
    "# Save the trained model and vectorizer\n",
    "joblib.dump(lr, 'sentiment_analysis_model.pkl')\n",
    "joblib.dump(vectorizer, 'tfidf_vectorizer.pkl')"
   ]
  },
  {
   "cell_type": "markdown",
   "id": "c98f1a0e-cc08-4918-b6fd-495759a36e2e",
   "metadata": {},
   "source": [
    "**Model Comparison**"
   ]
  },
  {
   "cell_type": "code",
   "execution_count": null,
   "id": "1bcf34fa-449b-4448-b10e-4c15e68eb9e8",
   "metadata": {},
   "outputs": [],
   "source": [
    "from sklearn.naive_bayes import MultinomialNB\n",
    "\n",
    "# Naive Bayes model\n",
    "nb_model = MultinomialNB()\n",
    "nb_model.fit(X_train_tfidf, y_train)\n",
    "nb_pred = nb_model.predict(X_test_tfidf)\n",
    "nb_accuracy = accuracy_score(y_test, nb_pred)\n",
    "print(f'Naive Bayes Model Accuracy: {nb_accuracy}')"
   ]
  },
  {
   "cell_type": "markdown",
   "id": "7c501ea2-e813-4787-b4dd-68fe416c578a",
   "metadata": {},
   "source": [
    "# Models Visualization"
   ]
  },
  {
   "cell_type": "code",
   "execution_count": null,
   "id": "2dce30fa-5d83-4b33-b846-989c8c9741d1",
   "metadata": {},
   "outputs": [],
   "source": [
    "import matplotlib.pyplot as plt\n",
    "import seaborn as sns\n",
    "from sklearn.metrics import confusion_matrix, ConfusionMatrixDisplay\n",
    "\n",
    "\n",
    "# Visualize Model Accuracies\n",
    "model_names = ['Naive Bayes', 'Logistic Regression']\n",
    "accuracies = [nb_accuracy, lr_accuracy]\n",
    "\n",
    "plt.figure(figsize=(10, 5))\n",
    "sns.barplot(x=model_names, y=accuracies, palette='viridis')\n",
    "plt.title('Model Accuracy Comparison')\n",
    "plt.ylabel('Accuracy')\n",
    "plt.ylim(0, 1)\n",
    "plt.show()"
   ]
  },
  {
   "cell_type": "code",
   "execution_count": null,
   "id": "d9cdbcd4-f126-48a7-9c25-c1076bae662d",
   "metadata": {},
   "outputs": [],
   "source": [
    "# Confusion Matrix for Naive Bayes\n",
    "nb_cm = confusion_matrix(y_test, nb_pred)\n",
    "nb_cm_display = ConfusionMatrixDisplay(confusion_matrix=nb_cm, display_labels=['Negative', 'Positive'])\n",
    "nb_cm_display.plot(cmap='Blues')\n",
    "plt.title('Naive Bayes Confusion Matrix')\n",
    "plt.show()"
   ]
  },
  {
   "cell_type": "code",
   "execution_count": null,
   "id": "472532eb-0253-49be-83bc-390321cb9eec",
   "metadata": {},
   "outputs": [],
   "source": [
    "# Assuming sentiment values from the logistic regression model:\n",
    "# 1 for Positive, 0 for Neutral, -1 for Negative\n",
    "\n",
    "def adjust_price(original_price, sentiment_score):\n",
    "    if sentiment_score == 1:  # Positive Sentiment\n",
    "        return original_price * 1.10  # Increase price by 10%\n",
    "    elif sentiment_score == -1:  # Negative Sentiment\n",
    "        return original_price * 0.90  # Decrease price by 10%\n",
    "    else:  # Neutral Sentiment\n",
    "        return original_price  # Keep the price the same\n",
    "\n",
    "# Apply pricing adjustment to a list of products with their sentiment scores\n",
    "product_prices = [100, 150, 200]\n",
    "sentiment_scores = [1, -1, 0]  # Example sentiment scores\n",
    "\n",
    "adjusted_prices = [adjust_price(price, score) for price, score in zip(product_prices, sentiment_scores)]\n",
    "\n",
    "print(adjusted_prices)\n"
   ]
  }
 ],
 "metadata": {
  "kernelspec": {
   "display_name": "Python 3 (ipykernel)",
   "language": "python",
   "name": "python3"
  },
  "language_info": {
   "codemirror_mode": {
    "name": "ipython",
    "version": 3
   },
   "file_extension": ".py",
   "mimetype": "text/x-python",
   "name": "python",
   "nbconvert_exporter": "python",
   "pygments_lexer": "ipython3",
   "version": "3.11.7"
  }
 },
 "nbformat": 4,
 "nbformat_minor": 5
}

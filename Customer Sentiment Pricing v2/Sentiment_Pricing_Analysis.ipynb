{
 "cells": [
  {
   "cell_type": "markdown",
   "id": "f9a4a04e-802f-48b1-9c24-bde4ac5ce538",
   "metadata": {},
   "source": [
    "# Data Collection"
   ]
  },
  {
   "cell_type": "code",
   "execution_count": 1,
   "id": "a08dc957-1302-429b-bf5a-68428f32d87c",
   "metadata": {},
   "outputs": [
    {
     "name": "stdout",
     "output_type": "stream",
     "text": [
      "\n",
      "--- Sentiment140 Dataset ---\n",
      "Columns: Index(['Polarity', 'Id', 'Date', 'Query', 'User', 'Text'], dtype='object')\n",
      "   Polarity          Id                          Date     Query      User  \\\n",
      "0         0  1467810917  Mon Apr 06 22:19:53 PDT 2009  NO_QUERY  mattycus   \n",
      "1         0  1467811184  Mon Apr 06 22:19:57 PDT 2009  NO_QUERY   ElleCTF   \n",
      "\n",
      "                                                Text  \n",
      "0  @Kenichan I dived many times for the ball. Man...  \n",
      "1    my whole body feels itchy and like its on fire   \n",
      "\n",
      "--- Trustpilot Reviews Dataset ---\n",
      "Columns: Index(['name', 'company_url', 'trustpilot_url', 'description', 'author_name',\n",
      "       'review_title', 'review_text', 'rating', 'reviewed_at', 'uniq_id',\n",
      "       'scraped_at'],\n",
      "      dtype='object')\n",
      "        name                 company_url  \\\n",
      "0  Poundshop  https://www.poundshop.com/   \n",
      "1  Poundshop  https://www.poundshop.com/   \n",
      "\n",
      "                                      trustpilot_url  \\\n",
      "0  https://uk.trustpilot.com/review/www.poundshop...   \n",
      "1  https://uk.trustpilot.com/review/www.poundshop...   \n",
      "\n",
      "                                         description       author_name  \\\n",
      "0  The home for top brands, amazing value! We hav...             Colin   \n",
      "1  The home for top brands, amazing value! We hav...  Mr Paul Harrison   \n",
      "\n",
      "                              review_title  \\\n",
      "0              Lowest price in the country   \n",
      "1  got it on time they took notice that I…   \n",
      "\n",
      "                                         review_text  rating  \\\n",
      "0  Lowest price in the country for what we wanted...       5   \n",
      "1  got it on time they took notice that I let the...       5   \n",
      "\n",
      "                reviewed_at                               uniq_id scraped_at  \n",
      "0  2022-06-18T12:08:09.000Z  7e0edfe9-7251-5561-acc8-34f7d3ab79aa   06/18/22  \n",
      "1  2022-06-18T11:48:20.000Z  7e0edfe9-7251-5561-acc8-34f7d3ab79aa   06/18/22  \n",
      "\n",
      "--- Twitter Data ---\n",
      "Columns: Index(['Unnamed: 0', 'user_name', 'user_location', 'user_description',\n",
      "       'user_verified', 'date', 'text', 'hashtags', 'source', 'label'],\n",
      "      dtype='object')\n",
      "   Unnamed: 0       user_name      user_location  \\\n",
      "0           0      Aravindh S  Tamil Nadu, India   \n",
      "1           1  Gbest Bulk SMS      Abuja Nigeria   \n",
      "\n",
      "                                    user_description  user_verified  \\\n",
      "0                         Nemophilist 🌎 90's KID 😉 😜          False   \n",
      "1  Providers of Bulk SMS | Data Bundle | Airtime ...          False   \n",
      "\n",
      "               date                                               text  \\\n",
      "0  14-03-2022 12:38  And I am hearing new stories that within a sma...   \n",
      "1  14-03-2022 12:21  Do U have excess Airtime in ur line and will l...   \n",
      "\n",
      "  hashtags               source    label  \n",
      "0      NaN   Twitter for iPhone        0  \n",
      "1      NaN  Twitter for Android  neutral  \n",
      "\n",
      "--- Reviews Dataset ---\n",
      "Columns: Index(['Id', 'ProductId', 'UserId', 'ProfileName', 'HelpfulnessNumerator',\n",
      "       'HelpfulnessDenominator', 'Score', 'Time', 'Summary', 'Text'],\n",
      "      dtype='object')\n",
      "   Id   ProductId          UserId ProfileName  HelpfulnessNumerator  \\\n",
      "0   1  B001E4KFG0  A3SGXH7AUHU8GW  delmartian                     1   \n",
      "1   2  B00813GRG4  A1D87F6ZCVE5NK      dll pa                     0   \n",
      "\n",
      "   HelpfulnessDenominator  Score        Time                Summary  \\\n",
      "0                       1      5  1303862400  Good Quality Dog Food   \n",
      "1                       0      1  1346976000      Not as Advertised   \n",
      "\n",
      "                                                Text  \n",
      "0  I have bought several of the Vitality canned d...  \n",
      "1  Product arrived labeled as Jumbo Salted Peanut...  \n",
      "\n",
      "--- Ratings Beauty Dataset ---\n",
      "Columns: Index(['UserId', 'ProductId', 'Rating', 'Timestamp'], dtype='object')\n",
      "           UserId   ProductId  Rating   Timestamp\n",
      "0  A39HTATAQ9V7YF  0205616461     5.0  1369699200\n",
      "1  A3JM6GV9MNOF9X  0558925278     3.0  1355443200\n"
     ]
    }
   ],
   "source": [
    "import pandas as pd\n",
    "\n",
    "# Load datasets\n",
    "sentiment140_data = pd.read_csv('new_train_data_s140.csv') \n",
    "# Replace with your actual dataset variable\n",
    "sentiment140_data = pd.read_csv('new_train_data_s140.csv') \n",
    "trustpilot_reviews_data = pd.read_csv('trust_pilot_reviews_data_2022_06.csv') \n",
    "twitter_data = pd.read_csv('Twitter Scraping Tweets Dataset.csv')\n",
    "reviews_data = pd.read_csv('Reviews.csv') \n",
    "ratings_beauty_data = pd.read_csv('ratings_beauty.csv')\n",
    "\n",
    "# Function to display column names and first 2 rows\n",
    "def display_columns_and_rows(df, df_name):\n",
    "    print(f\"\\n--- {df_name} ---\")\n",
    "    print(\"Columns:\", df.columns)\n",
    "    print(df.head(2))\n",
    "\n",
    "# Display for each dataset\n",
    "display_columns_and_rows(sentiment140_data, 'Sentiment140 Dataset')\n",
    "display_columns_and_rows(trustpilot_reviews_data, 'Trustpilot Reviews Dataset')\n",
    "display_columns_and_rows(twitter_data, 'Twitter Data')\n",
    "display_columns_and_rows(reviews_data, 'Reviews Dataset')\n",
    "display_columns_and_rows(ratings_beauty_data, 'Ratings Beauty Dataset')"
   ]
  },
  {
   "cell_type": "markdown",
   "id": "9f6e21bb-7376-480d-8f2e-e0e295af7b21",
   "metadata": {},
   "source": [
    "# Data Preprocessing\n",
    "**Cleaning Text Data**"
   ]
  },
  {
   "cell_type": "code",
   "execution_count": 2,
   "id": "0fa8336b-9aeb-4887-8ee9-bc679f62cfb5",
   "metadata": {},
   "outputs": [],
   "source": [
    "def preprocess_sentiment140(data):\n",
    "    # Keep only the relevant columns (Polarity, Text)\n",
    "    data = data[['Polarity', 'Text']]\n",
    "    return data\n",
    "\n",
    "sentiment140_preprocessed = preprocess_sentiment140(sentiment140_data)"
   ]
  },
  {
   "cell_type": "code",
   "execution_count": 3,
   "id": "5097d138-5369-4970-83d5-cfc93b7e7875",
   "metadata": {},
   "outputs": [
    {
     "name": "stderr",
     "output_type": "stream",
     "text": [
      "C:\\Users\\Global\\AppData\\Local\\Temp\\ipykernel_3016\\2218531339.py:4: SettingWithCopyWarning: \n",
      "A value is trying to be set on a copy of a slice from a DataFrame\n",
      "\n",
      "See the caveats in the documentation: https://pandas.pydata.org/pandas-docs/stable/user_guide/indexing.html#returning-a-view-versus-a-copy\n",
      "  data.rename(columns={'review_text': 'Text', 'rating': 'Polarity'}, inplace=True)\n",
      "C:\\Users\\Global\\AppData\\Local\\Temp\\ipykernel_3016\\2218531339.py:6: SettingWithCopyWarning: \n",
      "A value is trying to be set on a copy of a slice from a DataFrame.\n",
      "Try using .loc[row_indexer,col_indexer] = value instead\n",
      "\n",
      "See the caveats in the documentation: https://pandas.pydata.org/pandas-docs/stable/user_guide/indexing.html#returning-a-view-versus-a-copy\n",
      "  data['Polarity'] = data['Polarity'].apply(lambda x: 1 if x > 3 else 0)\n"
     ]
    }
   ],
   "source": [
    "def preprocess_trustpilot(data):\n",
    "    # Keep the review text and rating, rename them for consistency\n",
    "    data = data[['review_text', 'rating']]\n",
    "    data.rename(columns={'review_text': 'Text', 'rating': 'Polarity'}, inplace=True)\n",
    "    # Convert ratings to binary sentiment: 1 for positive (rating > 3), 0 for negative\n",
    "    data['Polarity'] = data['Polarity'].apply(lambda x: 1 if x > 3 else 0)\n",
    "    return data\n",
    "\n",
    "trustpilot_preprocessed = preprocess_trustpilot(trustpilot_reviews_data)"
   ]
  },
  {
   "cell_type": "code",
   "execution_count": 4,
   "id": "1135ee10-c1c4-4ce9-882d-0928b943387a",
   "metadata": {},
   "outputs": [
    {
     "name": "stderr",
     "output_type": "stream",
     "text": [
      "C:\\Users\\Global\\AppData\\Local\\Temp\\ipykernel_3016\\2051554125.py:4: SettingWithCopyWarning: \n",
      "A value is trying to be set on a copy of a slice from a DataFrame\n",
      "\n",
      "See the caveats in the documentation: https://pandas.pydata.org/pandas-docs/stable/user_guide/indexing.html#returning-a-view-versus-a-copy\n",
      "  data.rename(columns={'text': 'Text', 'label': 'Polarity'}, inplace=True)\n"
     ]
    }
   ],
   "source": [
    "def preprocess_twitter(data):\n",
    "    # Keep relevant columns: text (tweets) and label (sentiment)\n",
    "    data = data[['text', 'label']]\n",
    "    data.rename(columns={'text': 'Text', 'label': 'Polarity'}, inplace=True)\n",
    "    return data\n",
    "\n",
    "twitter_preprocessed = preprocess_twitter(twitter_data)"
   ]
  },
  {
   "cell_type": "code",
   "execution_count": 5,
   "id": "ba8b8c7a-4500-4bd7-8791-185c442172d5",
   "metadata": {},
   "outputs": [
    {
     "name": "stderr",
     "output_type": "stream",
     "text": [
      "C:\\Users\\Global\\AppData\\Local\\Temp\\ipykernel_3016\\1822199805.py:5: SettingWithCopyWarning: \n",
      "A value is trying to be set on a copy of a slice from a DataFrame.\n",
      "Try using .loc[row_indexer,col_indexer] = value instead\n",
      "\n",
      "See the caveats in the documentation: https://pandas.pydata.org/pandas-docs/stable/user_guide/indexing.html#returning-a-view-versus-a-copy\n",
      "  data['Polarity'] = data['Score'].apply(lambda x: 1 if x > 3 else 0)\n"
     ]
    }
   ],
   "source": [
    "def preprocess_reviews(data):\n",
    "    # Keep relevant columns: Text (review) and Score (for sentiment)\n",
    "    data = data[['Text', 'Score']]\n",
    "    # Convert Score to binary polarity (1 for positive, 0 for negative)\n",
    "    data['Polarity'] = data['Score'].apply(lambda x: 1 if x > 3 else 0)\n",
    "    return data[['Polarity', 'Text']]  # Keep columns in consistent order\n",
    "\n",
    "reviews_preprocessed = preprocess_reviews(reviews_data)"
   ]
  },
  {
   "cell_type": "code",
   "execution_count": 6,
   "id": "ee6f51f0-9759-40da-ad90-729db471c5e5",
   "metadata": {},
   "outputs": [],
   "source": [
    "def preprocess_ratings_beauty(data):\n",
    "    # Assume ratings are from 1 to 5, convert them to binary polarity (1 for positive, 0 for negative)\n",
    "    data['Polarity'] = data['Rating'].apply(lambda x: 1 if x > 3 else 0)\n",
    "    # In this case, we don't have review text, so we will skip text processing for this dataset\n",
    "    return data[['Polarity']]\n",
    "\n",
    "ratings_beauty_preprocessed = preprocess_ratings_beauty(ratings_beauty_data)"
   ]
  },
  {
   "cell_type": "markdown",
   "id": "848017a9-3279-4249-9fff-016ffe89f6ef",
   "metadata": {},
   "source": [
    "**Save the Preprocessed Datasets**"
   ]
  },
  {
   "cell_type": "code",
   "execution_count": 7,
   "id": "3a6e7fe4-131f-4eb6-b7af-2bc46783e26d",
   "metadata": {},
   "outputs": [],
   "source": [
    "sentiment140_preprocessed.to_csv('sentiment140_preprocessed.csv', index=False)\n",
    "trustpilot_preprocessed.to_csv('trustpilot_preprocessed.csv', index=False)\n",
    "twitter_preprocessed.to_csv('twitter_preprocessed.csv', index=False)\n",
    "reviews_preprocessed.to_csv('reviews_preprocessed.csv', index=False)\n",
    "ratings_beauty_preprocessed.to_csv('ratings_beauty_preprocessed.csv', index=False)"
   ]
  },
  {
   "cell_type": "markdown",
   "id": "6d67a25d-b3ef-4f92-802c-d3da6f00fe13",
   "metadata": {},
   "source": [
    "**Combine the Preprocessed Data**"
   ]
  },
  {
   "cell_type": "code",
   "execution_count": 8,
   "id": "07de002c-3fa6-4fdc-8e84-3826e61baa3f",
   "metadata": {},
   "outputs": [
    {
     "name": "stdout",
     "output_type": "stream",
     "text": [
      "Index(['Polarity', 'Text'], dtype='object')\n"
     ]
    }
   ],
   "source": [
    "# Combine datasets (only those with text)\n",
    "combined_data = pd.concat([\n",
    "    sentiment140_preprocessed, \n",
    "    trustpilot_preprocessed, \n",
    "    twitter_preprocessed, \n",
    "    reviews_preprocessed\n",
    "], ignore_index=True)\n",
    "\n",
    "# Shuffle combined data\n",
    "combined_data = combined_data.sample(frac=1).reset_index(drop=True)\n",
    "# Check the columns of the combined dataset\n",
    "print(combined_data.columns)"
   ]
  },
  {
   "cell_type": "markdown",
   "id": "42b83575-6275-4b04-9b96-9cf6f2a21016",
   "metadata": {},
   "source": [
    "# Handling Missing Values and Vectorization\n",
    "**Vectorize the Text Data**"
   ]
  },
  {
   "cell_type": "code",
   "execution_count": 9,
   "id": "8e6297c3-a3c0-45f8-bf2e-d0941e429bd8",
   "metadata": {},
   "outputs": [],
   "source": [
    "from sklearn.feature_extraction.text import TfidfVectorizer\n",
    "import numpy as np\n",
    "\n",
    "# Vectorize the text data\n",
    "vectorizer = TfidfVectorizer(max_features=5000)  # Adjust max_features as needed\n",
    "X = vectorizer.fit_transform(combined_data['Text'])\n",
    "\n",
    "# Labels for sentiment (Polarity)\n",
    "y = combined_data['Polarity']"
   ]
  },
  {
   "cell_type": "code",
   "execution_count": 10,
   "id": "2597ad9e-177c-4f53-9fe6-a736290bba4d",
   "metadata": {},
   "outputs": [
    {
     "name": "stdout",
     "output_type": "stream",
     "text": [
      "Missing values in y_train: 0\n"
     ]
    }
   ],
   "source": [
    "from sklearn.model_selection import train_test_split \n",
    "\n",
    "# Replace 'Polarity' with the appropriate column from your dataset\n",
    "X = sentiment140_data['Text']  # The text data\n",
    "y = sentiment140_data['Polarity']  # The target labels (e.g., sentiment polarity)\n",
    "\n",
    "# Split data into train and test sets\n",
    "X_train, X_test, y_train, y_test = train_test_split(X, y, test_size=0.2, random_state=42)\n",
    "# Check for missing values in the target column\n",
    "print(f'Missing values in y_train: {y_train.isnull().sum()}')\n",
    "\n",
    "# Drop missing values if present\n",
    "y_train_clean = y_train.dropna()\n",
    "y_test_clean = y_test.dropna()"
   ]
  },
  {
   "cell_type": "markdown",
   "id": "cb7e273e-a4e3-46ce-9b54-bc831e7b74a4",
   "metadata": {},
   "source": [
    "# Exploratory Data Analysis (EDA)\n",
    "**Sentiment Distribution**"
   ]
  },
  {
   "cell_type": "code",
   "execution_count": 11,
   "id": "d274f7c1-50e4-4d20-8c54-dff2fbc7a5a1",
   "metadata": {},
   "outputs": [
    {
     "data": {
      "image/png": "[encoded data removed]",
      "text/plain": [
       "<Figure size 640x480 with 1 Axes>"
      ]
     },
     "metadata": {},
     "output_type": "display_data"
    },
    {
     "data": {
      "image/png": "[encoded data removed]",
      "text/plain": [
       "<Figure size 640x480 with 1 Axes>"
      ]
     },
     "metadata": {},
     "output_type": "display_data"
    }
   ],
   "source": [
    "import matplotlib.pyplot as plt\n",
    "import seaborn as sns\n",
    "\n",
    "# Plot sentiment distribution for Kaggle Sentiment140 dataset\n",
    "sns.countplot(x='Polarity', data=sentiment140_data)\n",
    "plt.title('Sentiment Distribution (Sentiment140_data)')\n",
    "plt.show()\n",
    "\n",
    "# Rating distribution for Trustpilot dataset\n",
    "sns.countplot(x='rating', data=trustpilot_reviews_data)\n",
    "plt.title('Rating Distribution (Trustpilot Data)')\n",
    "plt.show()"
   ]
  },
  {
   "cell_type": "markdown",
   "id": "cdbd57d9-268e-4e8c-b687-2dfb55481368",
   "metadata": {},
   "source": [
    "**Correlations between Review Sentiment and Pricing Feedback**"
   ]
  },
  {
   "cell_type": "code",
   "execution_count": 12,
   "id": "3a6eb594-8088-4964-89f3-6a80ea26e206",
   "metadata": {},
   "outputs": [
    {
     "name": "stdout",
     "output_type": "stream",
     "text": [
      "Correlation between Trustpilot ratings and Polarity: 0.9718712088751484\n"
     ]
    }
   ],
   "source": [
    "# Convert Trustpilot ratings to sentiment polarity (1 for positive, 0 for negative)\n",
    "trustpilot_reviews_data['Polarity'] = trustpilot_reviews_data['rating'].apply(lambda x: 1 if x > 3 else 0)\n",
    "\n",
    "# Calculate correlation between Trustpilot ratings and sentiment polarity\n",
    "correlation = trustpilot_reviews_data['rating'].corr(trustpilot_reviews_data['Polarity'])\n",
    "print(f'Correlation between Trustpilot ratings and Polarity: {correlation}')"
   ]
  },
  {
   "cell_type": "markdown",
   "id": "dcc7f2c2-ad34-4dbf-9b59-d3ca776539c8",
   "metadata": {},
   "source": [
    "# Model Building\n",
    "**Train-Test Split**"
   ]
  },
  {
   "cell_type": "code",
   "execution_count": 13,
   "id": "78df4207-394f-427c-84d4-4564c00f7baa",
   "metadata": {},
   "outputs": [],
   "source": [
    "from sklearn.model_selection import train_test_split \n",
    "\n",
    "# Replace 'Polarity' with the appropriate column from your dataset\n",
    "X = sentiment140_data['Text']  # The text data\n",
    "y = sentiment140_data['Polarity']  # The target labels (e.g., sentiment polarity)\n",
    "\n",
    "# Split data into train and test sets\n",
    "X_train, X_test, y_train, y_test = train_test_split(X, y, test_size=0.2, random_state=42)\n"
   ]
  },
  {
   "cell_type": "markdown",
   "id": "e89201b4-0930-49ab-92e2-7b79c35a6543",
   "metadata": {},
   "source": [
    "**Vectorize Text Data**"
   ]
  },
  {
   "cell_type": "code",
   "execution_count": 14,
   "id": "c029f438-e0bf-4c36-ab0b-0ede52071707",
   "metadata": {},
   "outputs": [],
   "source": [
    "# Vectorize the text data using TfidfVectorizer\n",
    "vectorizer = TfidfVectorizer()\n",
    "X_train_tfidf = vectorizer.fit_transform(X_train)  # Fit on train data\n",
    "X_test_tfidf = vectorizer.transform(X_test)  # Transform test data"
   ]
  },
  {
   "cell_type": "markdown",
   "id": "3e1055fa-8324-4a8a-a27d-560e04a81a67",
   "metadata": {},
   "source": [
    "**Model Training (Logistic Regression)**"
   ]
  },
  {
   "cell_type": "code",
   "execution_count": 16,
   "id": "696a9ee4-fbf3-4b80-8c18-9a866765f4f8",
   "metadata": {},
   "outputs": [
    {
     "name": "stdout",
     "output_type": "stream",
     "text": [
      "Model Accuracy: 0.80\n"
     ]
    },
    {
     "name": "stderr",
     "output_type": "stream",
     "text": [
      "C:\\Users\\Global\\anaconda3\\Lib\\site-packages\\sklearn\\linear_model\\_logistic.py:458: ConvergenceWarning: lbfgs failed to converge (status=1):\n",
      "STOP: TOTAL NO. of ITERATIONS REACHED LIMIT.\n",
      "\n",
      "Increase the number of iterations (max_iter) or scale the data as shown in:\n",
      "    https://scikit-learn.org/stable/modules/preprocessing.html\n",
      "Please also refer to the documentation for alternative solver options:\n",
      "    https://scikit-learn.org/stable/modules/linear_model.html#logistic-regression\n",
      "  n_iter_i = _check_optimize_result(\n"
     ]
    }
   ],
   "source": [
    "from sklearn.linear_model import LogisticRegression\n",
    "from sklearn.metrics import accuracy_score\n",
    "\n",
    "# Train the Logistic Regression model\n",
    "lr = LogisticRegression()\n",
    "lr.fit(X_train_tfidf, y_train_clean)\n",
    "\n",
    "# Evaluate the model\n",
    "lr_accuracy = lr.score(X_test_tfidf, y_test_clean)\n",
    "print(f\"Model Accuracy: {lr_accuracy:.2f}\")"
   ]
  },
  {
   "cell_type": "markdown",
   "id": "2e35a571-3bd9-42ff-9401-473fdaa712d8",
   "metadata": {},
   "source": [
    "# Save the Model and Vectorizer"
   ]
  },
  {
   "cell_type": "code",
   "execution_count": 17,
   "id": "87d656c8-be0d-45a6-bca8-926cd9817dc9",
   "metadata": {},
   "outputs": [
    {
     "data": {
      "text/plain": [
       "['tfidf_vectorizer.pkl']"
      ]
     },
     "execution_count": 17,
     "metadata": {},
     "output_type": "execute_result"
    }
   ],
   "source": [
    "import joblib\n",
    "\n",
    "# Save the trained model and vectorizer\n",
    "joblib.dump(lr, 'sentiment_analysis_model.pkl')\n",
    "joblib.dump(vectorizer, 'tfidf_vectorizer.pkl')"
   ]
  },
  {
   "cell_type": "markdown",
   "id": "c98f1a0e-cc08-4918-b6fd-495759a36e2e",
   "metadata": {},
   "source": [
    "**Model Comparison**"
   ]
  },
  {
   "cell_type": "code",
   "execution_count": 18,
   "id": "1bcf34fa-449b-4448-b10e-4c15e68eb9e8",
   "metadata": {},
   "outputs": [
    {
     "name": "stdout",
     "output_type": "stream",
     "text": [
      "Naive Bayes Model Accuracy: 0.774134375\n"
     ]
    }
   ],
   "source": [
    "from sklearn.naive_bayes import MultinomialNB\n",
    "\n",
    "# Naive Bayes model\n",
    "nb_model = MultinomialNB()\n",
    "nb_model.fit(X_train_tfidf, y_train)\n",
    "nb_pred = nb_model.predict(X_test_tfidf)\n",
    "nb_accuracy = accuracy_score(y_test, nb_pred)\n",
    "print(f'Naive Bayes Model Accuracy: {nb_accuracy}')"
   ]
  },
  {
   "cell_type": "markdown",
   "id": "7c501ea2-e813-4787-b4dd-68fe416c578a",
   "metadata": {},
   "source": [
    "# Models Visualization"
   ]
  },
  {
   "cell_type": "code",
   "execution_count": 19,
   "id": "2dce30fa-5d83-4b33-b846-989c8c9741d1",
   "metadata": {},
   "outputs": [
    {
     "name": "stderr",
     "output_type": "stream",
     "text": [
      "C:\\Users\\Global\\anaconda3\\Lib\\site-packages\\seaborn\\_oldcore.py:1765: FutureWarning: unique with argument that is not not a Series, Index, ExtensionArray, or np.ndarray is deprecated and will raise in a future version.\n",
      "  order = pd.unique(vector)\n"
     ]
    },
    {
     "data": {
      "image/png": "[encoded data removed]",
      "text/plain": [
       "<Figure size 1000x500 with 1 Axes>"
      ]
     },
     "metadata": {},
     "output_type": "display_data"
    }
   ],
   "source": [
    "import matplotlib.pyplot as plt\n",
    "import seaborn as sns\n",
    "from sklearn.metrics import confusion_matrix, ConfusionMatrixDisplay\n",
    "\n",
    "\n",
    "# Visualize Model Accuracies\n",
    "model_names = ['Naive Bayes', 'Logistic Regression']\n",
    "accuracies = [nb_accuracy, lr_accuracy]\n",
    "\n",
    "plt.figure(figsize=(10, 5))\n",
    "sns.barplot(x=model_names, y=accuracies, palette='viridis')\n",
    "plt.title('Model Accuracy Comparison')\n",
    "plt.ylabel('Accuracy')\n",
    "plt.ylim(0, 1)\n",
    "plt.show()"
   ]
  },
  {
   "cell_type": "code",
   "execution_count": 20,
   "id": "d9cdbcd4-f126-48a7-9c25-c1076bae662d",
   "metadata": {},
   "outputs": [
    {
     "data": {
      "image/png": "[encoded data removed]",
      "text/plain": [
       "<Figure size 640x480 with 2 Axes>"
      ]
     },
     "metadata": {},
     "output_type": "display_data"
    }
   ],
   "source": [
    "# Confusion Matrix for Naive Bayes\n",
    "nb_cm = confusion_matrix(y_test, nb_pred)\n",
    "nb_cm_display = ConfusionMatrixDisplay(confusion_matrix=nb_cm, display_labels=['Negative', 'Positive'])\n",
    "nb_cm_display.plot(cmap='Blues')\n",
    "plt.title('Naive Bayes Confusion Matrix')\n",
    "plt.show()"
   ]
  }
 ],
 "metadata": {
  "kernelspec": {
   "display_name": "Python 3 (ipykernel)",
   "language": "python",
   "name": "python3"
  },
  "language_info": {
   "codemirror_mode": {
    "name": "ipython",
    "version": 3
   },
   "file_extension": ".py",
   "mimetype": "text/x-python",
   "name": "python",
   "nbconvert_exporter": "python",
   "pygments_lexer": "ipython3",
   "version": "3.11.7"
  }
 },
 "nbformat": 4,
 "nbformat_minor": 5
}

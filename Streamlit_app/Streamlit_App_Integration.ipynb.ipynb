{
 "cells": [
  {
   "cell_type": "code",
   "execution_count": 1,
   "id": "ab8bc70d-fad1-4ced-8024-43c4b4e194ba",
   "metadata": {},
   "outputs": [
    {
     "name": "stderr",
     "output_type": "stream",
     "text": [
      "2024-10-14 05:30:11.674 WARNING streamlit.runtime.scriptrunner_utils.script_run_context: Thread 'MainThread': missing ScriptRunContext! This warning can be ignored when running in bare mode.\n",
      "2024-10-14 05:30:12.252 \n",
      "  \u001b[33m\u001b[1mWarning:\u001b[0m to view this Streamlit app on a browser, run it with the following\n",
      "  command:\n",
      "\n",
      "    streamlit run C:\\Users\\Global\\anaconda3\\Lib\\site-packages\\ipykernel_launcher.py [ARGUMENTS]\n",
      "2024-10-14 05:30:12.255 Thread 'MainThread': missing ScriptRunContext! This warning can be ignored when running in bare mode.\n",
      "2024-10-14 05:30:12.256 Thread 'MainThread': missing ScriptRunContext! This warning can be ignored when running in bare mode.\n",
      "2024-10-14 05:30:12.258 Thread 'MainThread': missing ScriptRunContext! This warning can be ignored when running in bare mode.\n",
      "2024-10-14 05:30:12.261 Thread 'MainThread': missing ScriptRunContext! This warning can be ignored when running in bare mode.\n",
      "2024-10-14 05:30:12.263 Thread 'MainThread': missing ScriptRunContext! This warning can be ignored when running in bare mode.\n",
      "2024-10-14 05:30:12.269 Thread 'MainThread': missing ScriptRunContext! This warning can be ignored when running in bare mode.\n",
      "2024-10-14 05:30:12.273 Thread 'MainThread': missing ScriptRunContext! This warning can be ignored when running in bare mode.\n",
      "2024-10-14 05:30:12.275 Thread 'MainThread': missing ScriptRunContext! This warning can be ignored when running in bare mode.\n",
      "2024-10-14 05:30:12.278 Thread 'MainThread': missing ScriptRunContext! This warning can be ignored when running in bare mode.\n",
      "2024-10-14 05:30:12.282 Thread 'MainThread': missing ScriptRunContext! This warning can be ignored when running in bare mode.\n"
     ]
    }
   ],
   "source": [
    "import streamlit as st\n",
    "import pandas as pd\n",
    "import time \n",
    "\n",
    "# Define the adjust_price function for sentiment-based pricing adjustments\n",
    "def adjust_price(original_price, sentiment_score):\n",
    "    if sentiment_score == 1:  # Positive Sentiment\n",
    "        return original_price * 1.10  # Increase price by 10%\n",
    "    elif sentiment_score == -1:  # Negative Sentiment\n",
    "        return original_price * 0.90  # Decrease price by 10%\n",
    "    else:  # Neutral Sentiment\n",
    "        return original_price  # Keep the price the same\n",
    "\n",
    "# Streamlit app starts here\n",
    "st.title(\"Sentiment-Based Dynamic Pricing\")\n",
    "st.subheader(\"Upload Sentiment Data CSV\")\n",
    "\n",
    "# File uploader\n",
    "uploaded_file = st.file_uploader(\"Upload your CSV file\", type=['csv'])\n",
    "\n",
    "if uploaded_file is not None:\n",
    "    # Read the CSV file\n",
    "    try:\n",
    "        data = pd.read_csv(uploaded_file)\n",
    "\n",
    "        # Check if the necessary columns exist\n",
    "        required_columns = ['Product', 'Price', 'Sentiment']\n",
    "        if all(column in data.columns for column in required_columns):\n",
    "            # Display the first few rows of the data\n",
    "            st.write(\"Data uploaded successfully! Here's a preview:\")\n",
    "            st.write(data.head())\n",
    "\n",
    "            # Processing the data\n",
    "            st.write(\"Processing the data...\")\n",
    "            \n",
    "            # Progress bar while processing\n",
    "            progress = st.progress(0)\n",
    "            for i in range(100):\n",
    "                time.sleep(0.02)  # Simulate processing time\n",
    "                progress.progress(i + 1)\n",
    "\n",
    "            # Apply pricing adjustment\n",
    "            data['Adjusted Price'] = data.apply(lambda row: adjust_price(row['Price'], row['Sentiment']), axis=1)\n",
    "\n",
    "            # Display the adjusted prices\n",
    "            st.write(\"Pricing adjustments complete! Here's the result:\")\n",
    "            st.write(data[['Product', 'Price', 'Sentiment', 'Adjusted Price']])\n",
    "\n",
    "            # Option to download the adjusted data as a CSV\n",
    "            csv = data.to_csv(index=False).encode('utf-8')\n",
    "            st.download_button(\n",
    "                label=\"Download Adjusted Pricing CSV\",\n",
    "                data=csv,\n",
    "                file_name='adjusted_pricing.csv',\n",
    "                mime='text/csv',\n",
    "            )\n",
    "        else:\n",
    "            missing_columns = [col for col in required_columns if col not in data.columns]\n",
    "            st.error(f\"Missing columns: {', '.join(missing_columns)}. Please upload a file with the correct columns.\")\n",
    "    except Exception as e:\n",
    "        st.error(f\"Error reading file: {e}\")\n",
    "else:\n",
    "    st.warning(\"Please upload a CSV file to get started.\")"
   ]
  },
  {
   "cell_type": "code",
   "execution_count": null,
   "id": "45e61a3a-34cb-4803-9eb2-fab136ce2380",
   "metadata": {},
   "outputs": [],
   "source": [
    "!streamlit run streamlit_app.py"
   ]
  }
 ],
 "metadata": {
  "kernelspec": {
   "display_name": "Python 3 (ipykernel)",
   "language": "python",
   "name": "python3"
  },
  "language_info": {
   "codemirror_mode": {
    "name": "ipython",
    "version": 3
   },
   "file_extension": ".py",
   "mimetype": "text/x-python",
   "name": "python",
   "nbconvert_exporter": "python",
   "pygments_lexer": "ipython3",
   "version": "3.11.7"
  }
 },
 "nbformat": 4,
 "nbformat_minor": 5
}

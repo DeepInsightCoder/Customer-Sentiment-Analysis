{
 "cells": [
  {
   "cell_type": "markdown",
   "id": "0158c1a2-cd4a-4e69-bc02-28cf7de36ab1",
   "metadata": {},
   "source": [
    "# LOAD DATA"
   ]
  },
  {
   "cell_type": "code",
   "execution_count": 1,
   "id": "1310c5f8-7fd6-4480-a642-5a1370939e96",
   "metadata": {},
   "outputs": [],
   "source": [
    "# Import necessary libraries\n",
    "import pandas as pd\n",
    "import numpy as np\n",
    "import re\n",
    "from nltk.tokenize import word_tokenize\n",
    "from nltk.corpus import stopwords\n",
    "from nltk.stem import WordNetLemmatizer\n",
    "from nltk.sentiment.vader import SentimentIntensityAnalyzer\n",
    "import concurrent.futures\n",
    "from concurrent.futures import ThreadPoolExecutor\n",
    "import warnings\n",
    "warnings.simplefilter(action='ignore', category=FutureWarning)\n",
    "\n",
    "# Load datasets\n",
    "sentiment140_data = pd.read_csv('new_train_data_s140.csv')\n",
    "trustpilot_reviews_data = pd.read_csv('trust_pilot_reviews_data_2022_06.csv')\n",
    "twitter_data = pd.read_csv('Twitter Scraping Tweets Dataset.csv')\n",
    "reviews_data = pd.read_csv('Reviews.csv')\n",
    "ratings_beauty_data = pd.read_csv('ratings_beauty.csv')"
   ]
  },
  {
   "cell_type": "markdown",
   "id": "c41d4ff4-f70f-4c4e-9703-e985c5aa5b98",
   "metadata": {},
   "source": [
    "# CLEAN TEXT DATA"
   ]
  },
  {
   "cell_type": "code",
   "execution_count": 2,
   "id": "6abb4309-b2da-4873-a71c-2a9d30a55c39",
   "metadata": {},
   "outputs": [],
   "source": [
    "# Function to clean text data\n",
    "def clean_text(text):\n",
    "    # Remove special characters and numbers\n",
    "    text = re.sub(r'[^a-zA-Z\\s]', '', text)\n",
    "    # Tokenize text\n",
    "    tokens = word_tokenize(text.lower())\n",
    "    # Remove stopwords\n",
    "    tokens = [WordNetLemmatizer().lemmatize(word) for word in tokens if word not in stopwords.words('english')]\n",
    "    return ' '.join(tokens)\n",
    "\n",
    "# Update Polarity mapping for 1-5 rating scale\n",
    "def map_polarity(rating):\n",
    "    if rating > 3:  # Positive\n",
    "        return 1\n",
    "    elif rating == 3:  # Neutral\n",
    "        return 0.5\n",
    "    else:  # Negative\n",
    "        return 0\n",
    "\n",
    "\n",
    "# Clean and preprocess Sentiment140 dataset\n",
    "def clean_sentiment140(data):\n",
    "    data = data[['Polarity', 'Text']]\n",
    "    data['Text'] = data['Text'].apply(clean_text)\n",
    "    return data\n",
    "\n",
    "# Clean and preprocess Trustpilot dataset\n",
    "def clean_trustpilot(data):\n",
    "    data = data[['review_text', 'rating']]\n",
    "    data.rename(columns={'review_text': 'Text', 'rating': 'Polarity'}, inplace=True)\n",
    "    data['Polarity'] = data['Polarity'].apply(lambda x: 1 if x > 3 else 0)\n",
    "    data['Text'] = data['Text'].apply(clean_text)\n",
    "    return data\n",
    "\n",
    "# Clean and preprocess Twitter dataset\n",
    "def clean_twitter(data):\n",
    "    data = data[['text', 'label']]\n",
    "    data.rename(columns={'text': 'Text', 'label': 'Polarity'}, inplace=True)\n",
    "    data['Text'] = data['Text'].apply(clean_text)\n",
    "    return data\n",
    "\n",
    "# Clean and preprocess Reviews dataset\n",
    "def clean_reviews(data):\n",
    "    data = data[['Text', 'Score']]\n",
    "    data['Polarity'] = data['Score'].apply(lambda x: 1 if x > 3 else 0)\n",
    "    data['Text'] = data['Text'].apply(clean_text)\n",
    "    return data[['Polarity', 'Text']] \n",
    "\n",
    "# Clean and preprocess Ratings Beauty dataset\n",
    "def clean_ratings_beauty(data):\n",
    "    data['Polarity'] = data['Rating'].apply(lambda x: 1 if x > 3 else 0)\n",
    "    return data[['Polarity']]"
   ]
  },
  {
   "cell_type": "markdown",
   "id": "99cc97f9-ecda-48ed-98ce-33fb53cff8b4",
   "metadata": {},
   "source": [
    "# HANDLE MISSING DATA"
   ]
  },
  {
   "cell_type": "code",
   "execution_count": 3,
   "id": "bcf89261-dc83-4273-b8c1-09fcc2bfb8ed",
   "metadata": {},
   "outputs": [
    {
     "name": "stdout",
     "output_type": "stream",
     "text": [
      "Missing values removed from each dataset!\n"
     ]
    }
   ],
   "source": [
    "# Remove missing values from each dataset based on the 'Text' column\n",
    "sentiment140_data = sentiment140_data.dropna(subset=['Text'])\n",
    "reviews_data = reviews_data.dropna(subset=['Text'])\n",
    "\n",
    "print(\"Missing values removed from each dataset!\")"
   ]
  },
  {
   "cell_type": "markdown",
   "id": "53061f11-2ae5-4400-9846-6d7ca77039e7",
   "metadata": {},
   "source": [
    "# LABEL SENTIMENTS"
   ]
  },
  {
   "cell_type": "code",
   "execution_count": 4,
   "id": "10d0b41a-a9e4-498f-be15-8d00c026de49",
   "metadata": {},
   "outputs": [],
   "source": [
    "from textblob import TextBlob\n",
    "\n",
    "# Function to get sentiment\n",
    "def get_sentiment(text):\n",
    "    analysis = TextBlob(text)\n",
    "    if analysis.sentiment.polarity > 0:\n",
    "        return 'positive'\n",
    "    elif analysis.sentiment.polarity == 0:\n",
    "        return 'neutral'\n",
    "    else:\n",
    "        return 'negative'\n",
    "\n",
    "# Function to apply sentiment analysis to a dataset\n",
    "def apply_sentiment_analysis(df, text_column):\n",
    "    # Convert the text column to string\n",
    "    df[text_column] = df[text_column].astype(str)\n",
    "    df['sentiment'] = df[text_column].apply(get_sentiment)\n",
    "    return df"
   ]
  },
  {
   "cell_type": "code",
   "execution_count": 5,
   "id": "b6f0a60b-5690-4c5d-a84a-14b091d1df78",
   "metadata": {},
   "outputs": [],
   "source": [
    "# Apply the sentiment analysis to all datasets\n",
    "sentiment140_data = apply_sentiment_analysis(sentiment140_data, 'Polarity')\n",
    "trustpilot_reviews_data = apply_sentiment_analysis(trustpilot_reviews_data, 'review_text') \n",
    "twitter_data = apply_sentiment_analysis(twitter_data, 'text') \n",
    "reviews_data = apply_sentiment_analysis(reviews_data, 'Text') \n",
    "ratings_beauty_data = apply_sentiment_analysis(ratings_beauty_data, 'Rating')"
   ]
  },
  {
   "cell_type": "code",
   "execution_count": 6,
   "id": "ab415b22-91f2-4121-a9d1-e03635676fb2",
   "metadata": {},
   "outputs": [
    {
     "name": "stdout",
     "output_type": "stream",
     "text": [
      "Sentiment analysis completed successfully!\n"
     ]
    }
   ],
   "source": [
    "print(\"Sentiment analysis completed successfully!\")"
   ]
  },
  {
   "cell_type": "markdown",
   "id": "4a0a3d95-a5cc-48c2-8101-53b0fd391259",
   "metadata": {},
   "source": [
    "# SAVE PREPROCESSED DATASETS"
   ]
  },
  {
   "cell_type": "code",
   "execution_count": 7,
   "id": "24c9b4fe-46d3-4d0f-a708-f47fffa7860e",
   "metadata": {},
   "outputs": [
    {
     "name": "stdout",
     "output_type": "stream",
     "text": [
      "Data Preprocessing Completed and Saved!\n"
     ]
    }
   ],
   "source": [
    "sentiment140_data.to_csv('cleaned_sentiment140_data.csv', index=False)\n",
    "trustpilot_reviews_data.to_csv('cleaned_trustpilot_reviews_data.csv', index=False)\n",
    "twitter_data.to_csv('cleaned_twitter_data.csv', index=False)\n",
    "reviews_data.to_csv('cleaned_reviews_data.csv', index=False)\n",
    "ratings_beauty_data.to_csv('cleaned_ratings_beauty_data.csv', index=False)\n",
    "\n",
    "print(\"Data Preprocessing Completed and Saved!\")"
   ]
  }
 ],
 "metadata": {
  "kernelspec": {
   "display_name": "Python 3 (ipykernel)",
   "language": "python",
   "name": "python3"
  },
  "language_info": {
   "codemirror_mode": {
    "name": "ipython",
    "version": 3
   },
   "file_extension": ".py",
   "mimetype": "text/x-python",
   "name": "python",
   "nbconvert_exporter": "python",
   "pygments_lexer": "ipython3",
   "version": "3.11.7"
  }
 },
 "nbformat": 4,
 "nbformat_minor": 5
}
